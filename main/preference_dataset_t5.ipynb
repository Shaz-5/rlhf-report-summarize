{
 "cells": [
  {
   "cell_type": "markdown",
   "id": "82a4a8d2",
   "metadata": {},
   "source": [
    "# Create Preference Dataset"
   ]
  },
  {
   "cell_type": "code",
   "execution_count": 16,
   "id": "fe8fd713",
   "metadata": {},
   "outputs": [],
   "source": [
    "import torch\n",
    "from transformers import T5ForConditionalGeneration, AutoTokenizer\n",
    "from torch.utils.data import DataLoader, Dataset\n",
    "from torch.cuda.amp import autocast  # For FP16 mixed precision\n",
    "\n",
    "import os\n",
    "import pandas as pd\n",
    "from tqdm import tqdm"
   ]
  },
  {
   "cell_type": "code",
   "execution_count": 3,
   "id": "97773e44",
   "metadata": {},
   "outputs": [
    {
     "name": "stdout",
     "output_type": "stream",
     "text": [
      "Loaded model.\n"
     ]
    }
   ],
   "source": [
    "# T5 model and tokenizer\n",
    "model_name = \"t5-base\"\n",
    "model = T5ForConditionalGeneration.from_pretrained(model_name)\n",
    "tokenizer = AutoTokenizer.from_pretrained(model_name)\n",
    "\n",
    "print('Loaded model.')"
   ]
  },
  {
   "cell_type": "code",
   "execution_count": 6,
   "id": "1a73b616",
   "metadata": {},
   "outputs": [],
   "source": [
    "device = \"cuda\" if torch.cuda.is_available() else \"cpu\""
   ]
  },
  {
   "cell_type": "code",
   "execution_count": 11,
   "id": "d36fcccc",
   "metadata": {},
   "outputs": [],
   "source": [
    "# dataset class for batch processing\n",
    "class ReportDataset(Dataset):\n",
    "    def __init__(self, reports, tokenizer, max_input_length=512):\n",
    "        self.reports = reports\n",
    "        self.tokenizer = tokenizer\n",
    "        self.max_input_length = max_input_length\n",
    "\n",
    "    def __len__(self):\n",
    "        return len(self.reports)\n",
    "\n",
    "    def __getitem__(self, idx):\n",
    "        text = self.reports[idx]\n",
    "        encoding = self.tokenizer(\n",
    "            \"summarize: \" + text,\n",
    "            truncation=True,\n",
    "            padding=\"max_length\",\n",
    "            max_length=self.max_input_length,\n",
    "            return_tensors=\"pt\",\n",
    "        )\n",
    "        return encoding"
   ]
  },
  {
   "cell_type": "markdown",
   "id": "1337db07",
   "metadata": {},
   "source": [
    "## Train"
   ]
  },
  {
   "cell_type": "code",
   "execution_count": 4,
   "id": "503d945e",
   "metadata": {},
   "outputs": [
    {
     "data": {
      "text/html": [
       "<div>\n",
       "<style scoped>\n",
       "    .dataframe tbody tr th:only-of-type {\n",
       "        vertical-align: middle;\n",
       "    }\n",
       "\n",
       "    .dataframe tbody tr th {\n",
       "        vertical-align: top;\n",
       "    }\n",
       "\n",
       "    .dataframe thead th {\n",
       "        text-align: right;\n",
       "    }\n",
       "</style>\n",
       "<table border=\"1\" class=\"dataframe\">\n",
       "  <thead>\n",
       "    <tr style=\"text-align: right;\">\n",
       "      <th></th>\n",
       "      <th>findings</th>\n",
       "      <th>impression</th>\n",
       "    </tr>\n",
       "  </thead>\n",
       "  <tbody>\n",
       "    <tr>\n",
       "      <th>0</th>\n",
       "      <td>frontal and lateral views the cardiac silhouet...</td>\n",
       "      <td>stable groundglass and interstitial markings t...</td>\n",
       "    </tr>\n",
       "    <tr>\n",
       "      <th>1</th>\n",
       "      <td>the cardiac silhouette upper mediastinum and p...</td>\n",
       "      <td>no acute process .  no definite pulmonary nodu...</td>\n",
       "    </tr>\n",
       "    <tr>\n",
       "      <th>2</th>\n",
       "      <td>there been interval enlargement the cardiac si...</td>\n",
       "      <td>no acute radiographic cardiopulmonary process ...</td>\n",
       "    </tr>\n",
       "    <tr>\n",
       "      <th>3</th>\n",
       "      <td>borderline cardiomegaly partially accentuated ...</td>\n",
       "      <td>low lung volumes otherwise clear .</td>\n",
       "    </tr>\n",
       "    <tr>\n",
       "      <th>4</th>\n",
       "      <td>heart size within normal limits tortuous thora...</td>\n",
       "      <td>right lower lobe pneumonia .</td>\n",
       "    </tr>\n",
       "  </tbody>\n",
       "</table>\n",
       "</div>"
      ],
      "text/plain": [
       "                                            findings  \\\n",
       "0  frontal and lateral views the cardiac silhouet...   \n",
       "1  the cardiac silhouette upper mediastinum and p...   \n",
       "2  there been interval enlargement the cardiac si...   \n",
       "3  borderline cardiomegaly partially accentuated ...   \n",
       "4  heart size within normal limits tortuous thora...   \n",
       "\n",
       "                                          impression  \n",
       "0  stable groundglass and interstitial markings t...  \n",
       "1  no acute process .  no definite pulmonary nodu...  \n",
       "2  no acute radiographic cardiopulmonary process ...  \n",
       "3                low lung volumes otherwise clear .   \n",
       "4                      right lower lobe pneumonia .   "
      ]
     },
     "execution_count": 4,
     "metadata": {},
     "output_type": "execute_result"
    }
   ],
   "source": [
    "# dataset\n",
    "train_df = pd.read_csv(\"../data/preprocessed/train.csv\")"
   ]
  },
  {
   "cell_type": "code",
   "execution_count": 12,
   "id": "daaf2d2b",
   "metadata": {},
   "outputs": [],
   "source": [
    "# dataset and dataloader for batch processing\n",
    "\n",
    "dataset = ReportDataset(train_df['findings'].tolist(), tokenizer)\n",
    "dataloader = DataLoader(dataset, batch_size=8, shuffle=False)"
   ]
  },
  {
   "cell_type": "code",
   "execution_count": 13,
   "id": "d0b86ff5",
   "metadata": {},
   "outputs": [],
   "source": [
    "# generate summaries\n",
    "\n",
    "def generate_batch_summaries(dataloader, model, tokenizer):\n",
    "    summaries = []\n",
    "    model.eval()  # Set model to evaluation mode\n",
    "    with torch.no_grad():\n",
    "        for batch in tqdm(dataloader):\n",
    "            input_ids = batch['input_ids'].squeeze(1).to(device)\n",
    "            attention_mask = batch['attention_mask'].squeeze(1).to(device)\n",
    "\n",
    "            with autocast():  # Enable FP16 mixed precision\n",
    "                # Generate summaries\n",
    "                summary_ids = model.generate(input_ids, attention_mask=attention_mask, \n",
    "                                             max_length=200, num_beams=4, early_stopping=True)\n",
    "\n",
    "            # Decode and collect the summaries\n",
    "            summaries.extend([tokenizer.decode(s, skip_special_tokens=True) for s in summary_ids])\n",
    "    \n",
    "    return summaries"
   ]
  },
  {
   "cell_type": "code",
   "execution_count": null,
   "id": "5cf6e93e",
   "metadata": {},
   "outputs": [],
   "source": [
    "train_summaries = generate_batch_train_summaries(dataloader, model.to(device), tokenizer)"
   ]
  },
  {
   "cell_type": "code",
   "execution_count": 24,
   "id": "0030b252",
   "metadata": {},
   "outputs": [],
   "source": [
    "train_df['t5_summary'] = train_summaries"
   ]
  },
  {
   "cell_type": "code",
   "execution_count": 25,
   "id": "bf570d10",
   "metadata": {},
   "outputs": [
    {
     "data": {
      "text/html": [
       "<div>\n",
       "<style scoped>\n",
       "    .dataframe tbody tr th:only-of-type {\n",
       "        vertical-align: middle;\n",
       "    }\n",
       "\n",
       "    .dataframe tbody tr th {\n",
       "        vertical-align: top;\n",
       "    }\n",
       "\n",
       "    .dataframe thead th {\n",
       "        text-align: right;\n",
       "    }\n",
       "</style>\n",
       "<table border=\"1\" class=\"dataframe\">\n",
       "  <thead>\n",
       "    <tr style=\"text-align: right;\">\n",
       "      <th></th>\n",
       "      <th>findings</th>\n",
       "      <th>impression</th>\n",
       "      <th>t5_summary</th>\n",
       "    </tr>\n",
       "  </thead>\n",
       "  <tbody>\n",
       "    <tr>\n",
       "      <th>0</th>\n",
       "      <td>frontal and lateral views the cardiac silhouet...</td>\n",
       "      <td>stable groundglass and interstitial markings t...</td>\n",
       "      <td>frontal and lateral views the cardiac silhouet...</td>\n",
       "    </tr>\n",
       "    <tr>\n",
       "      <th>1</th>\n",
       "      <td>the cardiac silhouette upper mediastinum and p...</td>\n",
       "      <td>no acute process .  no definite pulmonary nodu...</td>\n",
       "      <td>upper mediastinum and pulmonary vasculature ar...</td>\n",
       "    </tr>\n",
       "    <tr>\n",
       "      <th>2</th>\n",
       "      <td>there been interval enlargement the cardiac si...</td>\n",
       "      <td>no acute radiographic cardiopulmonary process ...</td>\n",
       "      <td>there has been interval enlargement the cardia...</td>\n",
       "    </tr>\n",
       "    <tr>\n",
       "      <th>3</th>\n",
       "      <td>borderline cardiomegaly partially accentuated ...</td>\n",
       "      <td>low lung volumes otherwise clear .</td>\n",
       "      <td>borderline cardiomegaly partially accentuated ...</td>\n",
       "    </tr>\n",
       "    <tr>\n",
       "      <th>4</th>\n",
       "      <td>heart size within normal limits tortuous thora...</td>\n",
       "      <td>right lower lobe pneumonia .</td>\n",
       "      <td>heart size within normal limits tortuous thora...</td>\n",
       "    </tr>\n",
       "  </tbody>\n",
       "</table>\n",
       "</div>"
      ],
      "text/plain": [
       "                                            findings  \\\n",
       "0  frontal and lateral views the cardiac silhouet...   \n",
       "1  the cardiac silhouette upper mediastinum and p...   \n",
       "2  there been interval enlargement the cardiac si...   \n",
       "3  borderline cardiomegaly partially accentuated ...   \n",
       "4  heart size within normal limits tortuous thora...   \n",
       "\n",
       "                                          impression  \\\n",
       "0  stable groundglass and interstitial markings t...   \n",
       "1  no acute process .  no definite pulmonary nodu...   \n",
       "2  no acute radiographic cardiopulmonary process ...   \n",
       "3                low lung volumes otherwise clear .    \n",
       "4                      right lower lobe pneumonia .    \n",
       "\n",
       "                                          t5_summary  \n",
       "0  frontal and lateral views the cardiac silhouet...  \n",
       "1  upper mediastinum and pulmonary vasculature ar...  \n",
       "2  there has been interval enlargement the cardia...  \n",
       "3  borderline cardiomegaly partially accentuated ...  \n",
       "4  heart size within normal limits tortuous thora...  "
      ]
     },
     "execution_count": 25,
     "metadata": {},
     "output_type": "execute_result"
    }
   ],
   "source": [
    "train_df.head()"
   ]
  },
  {
   "cell_type": "code",
   "execution_count": 17,
   "id": "1dc3f79a",
   "metadata": {},
   "outputs": [],
   "source": [
    "os.makedirs('../data/preference_dataset', exist_ok=True)"
   ]
  },
  {
   "cell_type": "code",
   "execution_count": 29,
   "id": "e377e5dc",
   "metadata": {},
   "outputs": [],
   "source": [
    "train_df.to_csv('../data/preference_dataset/preference_train.csv', index=False)"
   ]
  },
  {
   "cell_type": "markdown",
   "id": "7a85e35a",
   "metadata": {},
   "source": [
    "## Val"
   ]
  },
  {
   "cell_type": "code",
   "execution_count": 4,
   "id": "4fd0e7c3",
   "metadata": {},
   "outputs": [
    {
     "data": {
      "text/html": [
       "<div>\n",
       "<style scoped>\n",
       "    .dataframe tbody tr th:only-of-type {\n",
       "        vertical-align: middle;\n",
       "    }\n",
       "\n",
       "    .dataframe tbody tr th {\n",
       "        vertical-align: top;\n",
       "    }\n",
       "\n",
       "    .dataframe thead th {\n",
       "        text-align: right;\n",
       "    }\n",
       "</style>\n",
       "<table border=\"1\" class=\"dataframe\">\n",
       "  <thead>\n",
       "    <tr style=\"text-align: right;\">\n",
       "      <th></th>\n",
       "      <th>findings</th>\n",
       "      <th>impression</th>\n",
       "    </tr>\n",
       "  </thead>\n",
       "  <tbody>\n",
       "    <tr>\n",
       "      <th>0</th>\n",
       "      <td>frontal and lateral views the cardiac silhouet...</td>\n",
       "      <td>stable groundglass and interstitial markings t...</td>\n",
       "    </tr>\n",
       "    <tr>\n",
       "      <th>1</th>\n",
       "      <td>the cardiac silhouette upper mediastinum and p...</td>\n",
       "      <td>no acute process .  no definite pulmonary nodu...</td>\n",
       "    </tr>\n",
       "    <tr>\n",
       "      <th>2</th>\n",
       "      <td>there been interval enlargement the cardiac si...</td>\n",
       "      <td>no acute radiographic cardiopulmonary process ...</td>\n",
       "    </tr>\n",
       "    <tr>\n",
       "      <th>3</th>\n",
       "      <td>borderline cardiomegaly partially accentuated ...</td>\n",
       "      <td>low lung volumes otherwise clear .</td>\n",
       "    </tr>\n",
       "    <tr>\n",
       "      <th>4</th>\n",
       "      <td>heart size within normal limits tortuous thora...</td>\n",
       "      <td>right lower lobe pneumonia .</td>\n",
       "    </tr>\n",
       "  </tbody>\n",
       "</table>\n",
       "</div>"
      ],
      "text/plain": [
       "                                            findings  \\\n",
       "0  frontal and lateral views the cardiac silhouet...   \n",
       "1  the cardiac silhouette upper mediastinum and p...   \n",
       "2  there been interval enlargement the cardiac si...   \n",
       "3  borderline cardiomegaly partially accentuated ...   \n",
       "4  heart size within normal limits tortuous thora...   \n",
       "\n",
       "                                          impression  \n",
       "0  stable groundglass and interstitial markings t...  \n",
       "1  no acute process .  no definite pulmonary nodu...  \n",
       "2  no acute radiographic cardiopulmonary process ...  \n",
       "3                low lung volumes otherwise clear .   \n",
       "4                      right lower lobe pneumonia .   "
      ]
     },
     "execution_count": 4,
     "metadata": {},
     "output_type": "execute_result"
    }
   ],
   "source": [
    "# dataset\n",
    "val_df = pd.read_csv(\"../data/preprocessed/val.csv\")"
   ]
  },
  {
   "cell_type": "code",
   "execution_count": 12,
   "id": "85093351",
   "metadata": {},
   "outputs": [],
   "source": [
    "# dataset and dataloader for batch processing\n",
    "\n",
    "dataset = ReportDataset(val_df['findings'].tolist(), tokenizer)\n",
    "dataloader = DataLoader(dataset, batch_size=8, shuffle=False)"
   ]
  },
  {
   "cell_type": "code",
   "execution_count": null,
   "id": "6c6c2ea8",
   "metadata": {
    "scrolled": true
   },
   "outputs": [],
   "source": [
    "val_summaries = generate_batch_val_summaries(dataloader, model.to(device), tokenizer)"
   ]
  },
  {
   "cell_type": "code",
   "execution_count": 24,
   "id": "fcedfff6",
   "metadata": {},
   "outputs": [],
   "source": [
    "val_df['t5_summary'] = val_summaries"
   ]
  },
  {
   "cell_type": "code",
   "execution_count": 25,
   "id": "c0addfcd",
   "metadata": {},
   "outputs": [
    {
     "data": {
      "text/html": [
       "<div>\n",
       "<style scoped>\n",
       "    .dataframe tbody tr th:only-of-type {\n",
       "        vertical-align: middle;\n",
       "    }\n",
       "\n",
       "    .dataframe tbody tr th {\n",
       "        vertical-align: top;\n",
       "    }\n",
       "\n",
       "    .dataframe thead th {\n",
       "        text-align: right;\n",
       "    }\n",
       "</style>\n",
       "<table border=\"1\" class=\"dataframe\">\n",
       "  <thead>\n",
       "    <tr style=\"text-align: right;\">\n",
       "      <th></th>\n",
       "      <th>findings</th>\n",
       "      <th>impression</th>\n",
       "      <th>t5_summary</th>\n",
       "    </tr>\n",
       "  </thead>\n",
       "  <tbody>\n",
       "    <tr>\n",
       "      <th>0</th>\n",
       "      <td>frontal and lateral views the cardiac silhouet...</td>\n",
       "      <td>stable groundglass and interstitial markings t...</td>\n",
       "      <td>frontal and lateral views the cardiac silhouet...</td>\n",
       "    </tr>\n",
       "    <tr>\n",
       "      <th>1</th>\n",
       "      <td>the cardiac silhouette upper mediastinum and p...</td>\n",
       "      <td>no acute process .  no definite pulmonary nodu...</td>\n",
       "      <td>upper mediastinum and pulmonary vasculature ar...</td>\n",
       "    </tr>\n",
       "    <tr>\n",
       "      <th>2</th>\n",
       "      <td>there been interval enlargement the cardiac si...</td>\n",
       "      <td>no acute radiographic cardiopulmonary process ...</td>\n",
       "      <td>there has been interval enlargement the cardia...</td>\n",
       "    </tr>\n",
       "    <tr>\n",
       "      <th>3</th>\n",
       "      <td>borderline cardiomegaly partially accentuated ...</td>\n",
       "      <td>low lung volumes otherwise clear .</td>\n",
       "      <td>borderline cardiomegaly partially accentuated ...</td>\n",
       "    </tr>\n",
       "    <tr>\n",
       "      <th>4</th>\n",
       "      <td>heart size within normal limits tortuous thora...</td>\n",
       "      <td>right lower lobe pneumonia .</td>\n",
       "      <td>heart size within normal limits tortuous thora...</td>\n",
       "    </tr>\n",
       "  </tbody>\n",
       "</table>\n",
       "</div>"
      ],
      "text/plain": [
       "                                            findings  \\\n",
       "0  frontal and lateral views the cardiac silhouet...   \n",
       "1  the cardiac silhouette upper mediastinum and p...   \n",
       "2  there been interval enlargement the cardiac si...   \n",
       "3  borderline cardiomegaly partially accentuated ...   \n",
       "4  heart size within normal limits tortuous thora...   \n",
       "\n",
       "                                          impression  \\\n",
       "0  stable groundglass and interstitial markings t...   \n",
       "1  no acute process .  no definite pulmonary nodu...   \n",
       "2  no acute radiographic cardiopulmonary process ...   \n",
       "3                low lung volumes otherwise clear .    \n",
       "4                      right lower lobe pneumonia .    \n",
       "\n",
       "                                          t5_summary  \n",
       "0  frontal and lateral views the cardiac silhouet...  \n",
       "1  upper mediastinum and pulmonary vasculature ar...  \n",
       "2  there has been interval enlargement the cardia...  \n",
       "3  borderline cardiomegaly partially accentuated ...  \n",
       "4  heart size within normal limits tortuous thora...  "
      ]
     },
     "execution_count": 25,
     "metadata": {},
     "output_type": "execute_result"
    }
   ],
   "source": [
    "val_df.head()"
   ]
  },
  {
   "cell_type": "code",
   "execution_count": 29,
   "id": "619f5f51",
   "metadata": {},
   "outputs": [],
   "source": [
    "val_df.to_csv('../data/preference_dataset/preference_val.csv', index=False)"
   ]
  },
  {
   "cell_type": "markdown",
   "id": "3fe98a9c",
   "metadata": {},
   "source": [
    "## Test"
   ]
  },
  {
   "cell_type": "code",
   "execution_count": 4,
   "id": "e457fcb1",
   "metadata": {},
   "outputs": [
    {
     "data": {
      "text/html": [
       "<div>\n",
       "<style scoped>\n",
       "    .dataframe tbody tr th:only-of-type {\n",
       "        vertical-align: middle;\n",
       "    }\n",
       "\n",
       "    .dataframe tbody tr th {\n",
       "        vertical-align: top;\n",
       "    }\n",
       "\n",
       "    .dataframe thead th {\n",
       "        text-align: right;\n",
       "    }\n",
       "</style>\n",
       "<table border=\"1\" class=\"dataframe\">\n",
       "  <thead>\n",
       "    <tr style=\"text-align: right;\">\n",
       "      <th></th>\n",
       "      <th>findings</th>\n",
       "      <th>impression</th>\n",
       "    </tr>\n",
       "  </thead>\n",
       "  <tbody>\n",
       "    <tr>\n",
       "      <th>0</th>\n",
       "      <td>frontal and lateral views the cardiac silhouet...</td>\n",
       "      <td>stable groundglass and interstitial markings t...</td>\n",
       "    </tr>\n",
       "    <tr>\n",
       "      <th>1</th>\n",
       "      <td>the cardiac silhouette upper mediastinum and p...</td>\n",
       "      <td>no acute process .  no definite pulmonary nodu...</td>\n",
       "    </tr>\n",
       "    <tr>\n",
       "      <th>2</th>\n",
       "      <td>there been interval enlargement the cardiac si...</td>\n",
       "      <td>no acute radiographic cardiopulmonary process ...</td>\n",
       "    </tr>\n",
       "    <tr>\n",
       "      <th>3</th>\n",
       "      <td>borderline cardiomegaly partially accentuated ...</td>\n",
       "      <td>low lung volumes otherwise clear .</td>\n",
       "    </tr>\n",
       "    <tr>\n",
       "      <th>4</th>\n",
       "      <td>heart size within normal limits tortuous thora...</td>\n",
       "      <td>right lower lobe pneumonia .</td>\n",
       "    </tr>\n",
       "  </tbody>\n",
       "</table>\n",
       "</div>"
      ],
      "text/plain": [
       "                                            findings  \\\n",
       "0  frontal and lateral views the cardiac silhouet...   \n",
       "1  the cardiac silhouette upper mediastinum and p...   \n",
       "2  there been interval enlargement the cardiac si...   \n",
       "3  borderline cardiomegaly partially accentuated ...   \n",
       "4  heart size within normal limits tortuous thora...   \n",
       "\n",
       "                                          impression  \n",
       "0  stable groundglass and interstitial markings t...  \n",
       "1  no acute process .  no definite pulmonary nodu...  \n",
       "2  no acute radiographic cardiopulmonary process ...  \n",
       "3                low lung volumes otherwise clear .   \n",
       "4                      right lower lobe pneumonia .   "
      ]
     },
     "execution_count": 4,
     "metadata": {},
     "output_type": "execute_result"
    }
   ],
   "source": [
    "# dataset\n",
    "test_df = pd.read_csv(\"../data/preprocessed/test.csv\")"
   ]
  },
  {
   "cell_type": "code",
   "execution_count": 12,
   "id": "34887adc",
   "metadata": {},
   "outputs": [],
   "source": [
    "# dataset and dataloader for batch processing\n",
    "\n",
    "dataset = ReportDataset(test_df['findings'].tolist(), tokenizer)\n",
    "dataloader = DataLoader(dataset, batch_size=8, shuffle=False)"
   ]
  },
  {
   "cell_type": "code",
   "execution_count": null,
   "id": "3db6e2dc",
   "metadata": {
    "scrolled": true
   },
   "outputs": [],
   "source": [
    "test_summaries = generate_batch_test_summaries(dataloader, model.to(device), tokenizer)"
   ]
  },
  {
   "cell_type": "code",
   "execution_count": 24,
   "id": "ceb678d1",
   "metadata": {},
   "outputs": [],
   "source": [
    "test_df['t5_summary'] = test_summaries"
   ]
  },
  {
   "cell_type": "code",
   "execution_count": 25,
   "id": "6cd5a90c",
   "metadata": {},
   "outputs": [
    {
     "data": {
      "text/html": [
       "<div>\n",
       "<style scoped>\n",
       "    .dataframe tbody tr th:only-of-type {\n",
       "        vertical-align: middle;\n",
       "    }\n",
       "\n",
       "    .dataframe tbody tr th {\n",
       "        vertical-align: top;\n",
       "    }\n",
       "\n",
       "    .dataframe thead th {\n",
       "        text-align: right;\n",
       "    }\n",
       "</style>\n",
       "<table border=\"1\" class=\"dataframe\">\n",
       "  <thead>\n",
       "    <tr style=\"text-align: right;\">\n",
       "      <th></th>\n",
       "      <th>findings</th>\n",
       "      <th>impression</th>\n",
       "      <th>t5_summary</th>\n",
       "    </tr>\n",
       "  </thead>\n",
       "  <tbody>\n",
       "    <tr>\n",
       "      <th>0</th>\n",
       "      <td>frontal and lateral views the cardiac silhouet...</td>\n",
       "      <td>stable groundglass and interstitial markings t...</td>\n",
       "      <td>frontal and lateral views the cardiac silhouet...</td>\n",
       "    </tr>\n",
       "    <tr>\n",
       "      <th>1</th>\n",
       "      <td>the cardiac silhouette upper mediastinum and p...</td>\n",
       "      <td>no acute process .  no definite pulmonary nodu...</td>\n",
       "      <td>upper mediastinum and pulmonary vasculature ar...</td>\n",
       "    </tr>\n",
       "    <tr>\n",
       "      <th>2</th>\n",
       "      <td>there been interval enlargement the cardiac si...</td>\n",
       "      <td>no acute radiographic cardiopulmonary process ...</td>\n",
       "      <td>there has been interval enlargement the cardia...</td>\n",
       "    </tr>\n",
       "    <tr>\n",
       "      <th>3</th>\n",
       "      <td>borderline cardiomegaly partially accentuated ...</td>\n",
       "      <td>low lung volumes otherwise clear .</td>\n",
       "      <td>borderline cardiomegaly partially accentuated ...</td>\n",
       "    </tr>\n",
       "    <tr>\n",
       "      <th>4</th>\n",
       "      <td>heart size within normal limits tortuous thora...</td>\n",
       "      <td>right lower lobe pneumonia .</td>\n",
       "      <td>heart size within normal limits tortuous thora...</td>\n",
       "    </tr>\n",
       "  </tbody>\n",
       "</table>\n",
       "</div>"
      ],
      "text/plain": [
       "                                            findings  \\\n",
       "0  frontal and lateral views the cardiac silhouet...   \n",
       "1  the cardiac silhouette upper mediastinum and p...   \n",
       "2  there been interval enlargement the cardiac si...   \n",
       "3  borderline cardiomegaly partially accentuated ...   \n",
       "4  heart size within normal limits tortuous thora...   \n",
       "\n",
       "                                          impression  \\\n",
       "0  stable groundglass and interstitial markings t...   \n",
       "1  no acute process .  no definite pulmonary nodu...   \n",
       "2  no acute radiographic cardiopulmonary process ...   \n",
       "3                low lung volumes otherwise clear .    \n",
       "4                      right lower lobe pneumonia .    \n",
       "\n",
       "                                          t5_summary  \n",
       "0  frontal and lateral views the cardiac silhouet...  \n",
       "1  upper mediastinum and pulmonary vasculature ar...  \n",
       "2  there has been interval enlargement the cardia...  \n",
       "3  borderline cardiomegaly partially accentuated ...  \n",
       "4  heart size within normal limits tortuous thora...  "
      ]
     },
     "execution_count": 25,
     "metadata": {},
     "output_type": "execute_result"
    }
   ],
   "source": [
    "test_df.head()"
   ]
  },
  {
   "cell_type": "code",
   "execution_count": 29,
   "id": "57a5edd9",
   "metadata": {},
   "outputs": [],
   "source": [
    "test_df.to_csv('../data/preference_dataset/preference_test.csv', index=False)"
   ]
  }
 ],
 "metadata": {
  "kernelspec": {
   "display_name": "Python 3 (ipykernel)",
   "language": "python",
   "name": "python3"
  },
  "language_info": {
   "codemirror_mode": {
    "name": "ipython",
    "version": 3
   },
   "file_extension": ".py",
   "mimetype": "text/x-python",
   "name": "python",
   "nbconvert_exporter": "python",
   "pygments_lexer": "ipython3",
   "version": "3.10.12"
  }
 },
 "nbformat": 4,
 "nbformat_minor": 5
}
